{
 "cells": [
  {
   "cell_type": "markdown",
   "metadata": {},
   "source": [
    "### Input"
   ]
  },
  {
   "cell_type": "code",
   "execution_count": null,
   "metadata": {
    "collapsed": false
   },
   "outputs": [],
   "source": [
    "# str=input(\"Enter your input\")\n",
    "# #print (str)\n",
    "# print(\"Received input is: \",str)\n",
    "\n",
    "\n",
    "# # Example\n",
    "\n",
    "name=input(\"Enter your name\")\n",
    "\n",
    "age=input(\"Enter your age\")\n",
    "\n",
    "print(\"Welcome \",name)\n",
    "print(\"Your age is \",age)\n",
    "\n",
    "print(\"After 5 years, your age will be :\",(int(age)+5))"
   ]
  },
  {
   "cell_type": "code",
   "execution_count": null,
   "metadata": {
    "collapsed": false
   },
   "outputs": [],
   "source": [
    "import os\n",
    "\n",
    "newfile=open(\"session2/574_m2_codes_v3.0/Edureka_Py.txt\",\"w+\")\n",
    "\n",
    "for i in range(1,10):\n",
    "    newfile.write(\"\\n Hello, welcome to Python:\")\n",
    "\n",
    "newfile.close()\n"
   ]
  },
  {
   "cell_type": "code",
   "execution_count": null,
   "metadata": {
    "collapsed": false
   },
   "outputs": [],
   "source": [
    "os.getcwd()"
   ]
  },
  {
   "cell_type": "code",
   "execution_count": null,
   "metadata": {
    "collapsed": false
   },
   "outputs": [],
   "source": [
    "pwd()"
   ]
  },
  {
   "cell_type": "code",
   "execution_count": null,
   "metadata": {
    "collapsed": false
   },
   "outputs": [],
   "source": [
    "newfile=open(\"session2/574_m2_codes_v3.0/Edureka_Py.txt\",\"r\")\n",
    "#print (newfile.mode)\n",
    "for i in range(1,10):\n",
    "    print(newfile.read(10))\n",
    "# newfile.seek(5)\n",
    "# print (newfile.read())\n",
    "# print(newfile.tell())\n",
    "newfile.close()"
   ]
  },
  {
   "cell_type": "code",
   "execution_count": null,
   "metadata": {
    "collapsed": false
   },
   "outputs": [],
   "source": [
    "os.rename(\"session2/574_m2_codes_v3.0/Edureka_Py.txt\",\"session2/574_m2_codes_v3.0/Py.txt\")\n",
    "#os.remove(\"Edureka_Py.txt\")"
   ]
  },
  {
   "cell_type": "markdown",
   "metadata": {},
   "source": [
    "### List operation"
   ]
  },
  {
   "cell_type": "code",
   "execution_count": null,
   "metadata": {
    "collapsed": false
   },
   "outputs": [],
   "source": [
    "list=[\"Marketing\",\"Content Designing\",\"Sales\"]\n",
    "print(list)\n",
    "\n",
    "#Concatenation\n",
    "# print(list+[\"Python\",\"Hadoop\"])\n",
    "\n",
    "# Repetition\n",
    "# print(list*2)\n",
    "\n",
    "# Membership Testing\n",
    "print('Marketing' in list)\n",
    "\n",
    "# Indexing\n",
    "print(list[2])\n",
    "\n",
    "# Slicing\n",
    "print(list[0:2])\n",
    "\n"
   ]
  },
  {
   "cell_type": "code",
   "execution_count": null,
   "metadata": {
    "collapsed": false
   },
   "outputs": [],
   "source": [
    "list=[\"Hadoop\",\"Python\",\"Android\"]\n",
    "print(list[0:2])\n",
    "\n",
    "print(list[-1])\n",
    "print (list[2])\n"
   ]
  },
  {
   "cell_type": "code",
   "execution_count": null,
   "metadata": {
    "collapsed": false
   },
   "outputs": [],
   "source": [
    "list=[\"Hadoop\",\"Python\",\"Android\"]\n",
    "list[1]=\"Java\"\n",
    "print(list)"
   ]
  },
  {
   "cell_type": "code",
   "execution_count": null,
   "metadata": {
    "collapsed": false
   },
   "outputs": [],
   "source": [
    "del(list[2])\n",
    "print(list)"
   ]
  },
  {
   "cell_type": "code",
   "execution_count": null,
   "metadata": {
    "collapsed": false
   },
   "outputs": [],
   "source": [
    "list=[1,2,3]\n",
    "list.append(\"Machine Learning\")\n",
    "print(list)"
   ]
  },
  {
   "cell_type": "code",
   "execution_count": null,
   "metadata": {
    "collapsed": false
   },
   "outputs": [],
   "source": [
    "list.extend(['g','h'])\n",
    "print(list)"
   ]
  },
  {
   "cell_type": "code",
   "execution_count": null,
   "metadata": {
    "collapsed": false
   },
   "outputs": [],
   "source": [
    "list.insert(1,'Scripting')\n",
    "print(list)\n",
    "print (list)\n",
    "list.remove('g')\n",
    "print(list)\n"
   ]
  },
  {
   "cell_type": "code",
   "execution_count": null,
   "metadata": {
    "collapsed": false
   },
   "outputs": [],
   "source": [
    "lst=[1,4,2,'x','y','z']\n",
    "if(type(lst)==list):\n",
    "    print(\"Yes\")\n",
    "\n",
    "type(lst)"
   ]
  },
  {
   "cell_type": "code",
   "execution_count": null,
   "metadata": {
    "collapsed": false
   },
   "outputs": [],
   "source": [
    "\n",
    "list4=['Python','Java','Hadoop','Android']\n",
    "print (list4)\n",
    "print(list4.sort())\n",
    "# print(list4.reverse())\n",
    "\n",
    "list4[::-1]"
   ]
  },
  {
   "cell_type": "code",
   "execution_count": null,
   "metadata": {
    "collapsed": false
   },
   "outputs": [],
   "source": [
    "vowels = ['e', 'a', 'u', 'o', 'i']\n",
    "vowels.sort()\n",
    "print(vowels)"
   ]
  },
  {
   "cell_type": "code",
   "execution_count": null,
   "metadata": {
    "collapsed": false
   },
   "outputs": [],
   "source": [
    "list=[1,2,3,4,5,'a','b','c']\n",
    "print (list)\n",
    "print(list.pop(3))\n",
    "print (list)"
   ]
  },
  {
   "cell_type": "code",
   "execution_count": null,
   "metadata": {
    "collapsed": false
   },
   "outputs": [],
   "source": [
    "\n",
    "\n",
    "\n",
    "# list3=[1,2,5,'Python','Haddop']\n",
    "# # print(type(list3))\n",
    "\n",
    "\n",
    "\n",
    "\n",
    "\n",
    "# print([x**2 for x in[1,2,3,4,5]])\n",
    "\n",
    "\n",
    "\n",
    "# list.remove('a')\n",
    "# print(list)\n",
    "\n",
    "# list1=['Python','XYZ','ABC','PQR']\n",
    "# print(list1)\n",
    "\n",
    "# print(sorted(list1))\n",
    "\n",
    "# print(list1[::-1])\n"
   ]
  },
  {
   "cell_type": "code",
   "execution_count": null,
   "metadata": {
    "collapsed": false
   },
   "outputs": [],
   "source": [
    "a=[]\n",
    "for x in [1,2,3,4,5]:\n",
    "   a.append(x**2)    \n",
    "print (a)\n",
    "\n",
    "l = [x**2 for x in [1,2,3,4,5]]   ### List comprehension\n",
    "print (l)\n",
    "\n",
    "print([x**2 for x in[1,2,3,4,5]])"
   ]
  },
  {
   "cell_type": "code",
   "execution_count": null,
   "metadata": {
    "collapsed": false
   },
   "outputs": [],
   "source": [
    "list=[\"Hadoop\",\"Python\",\"Android\"]\n",
    "print(list)\n",
    "\n",
    "tuple=(\"Python\",\"Hadoop\")\n",
    "print(tuple)"
   ]
  },
  {
   "cell_type": "code",
   "execution_count": null,
   "metadata": {
    "collapsed": false
   },
   "outputs": [],
   "source": [
    "list=[(1,2,3),(\"Python\",\"Java\")]\n",
    "print(list)\n",
    "print(len(list))\n",
    "print(list[1][0])\n",
    "print(list[0][1])\n",
    "list[0]=50\n",
    "list[1]=10\n",
    "print (list)"
   ]
  },
  {
   "cell_type": "markdown",
   "metadata": {},
   "source": [
    "### Tuple Operation"
   ]
  },
  {
   "cell_type": "code",
   "execution_count": null,
   "metadata": {
    "collapsed": false
   },
   "outputs": [],
   "source": [
    "tup1=(\"Haddop\",\"Python\",\"Java\")\n",
    "\n",
    "print(len(tup1))\n",
    "print(max(tup1))\n",
    "print(min(tup1))\n",
    "\n",
    "\n",
    "\n"
   ]
  },
  {
   "cell_type": "code",
   "execution_count": null,
   "metadata": {
    "collapsed": false
   },
   "outputs": [],
   "source": [
    "tup=(1,3,5,2,4,5,6)\n",
    "\n",
    "print(sorted(tup))\n",
    "print(tup[::-2])"
   ]
  },
  {
   "cell_type": "code",
   "execution_count": null,
   "metadata": {
    "collapsed": false
   },
   "outputs": [],
   "source": [
    "tup1=(\"Hadoop\",\"Python\",\"Java\")\n",
    "\n",
    "print(len(tup1))\n",
    "\n",
    "print(tup1*2) ## repitition\n",
    "\n",
    "print(\"Java\" in tup1)"
   ]
  },
  {
   "cell_type": "code",
   "execution_count": null,
   "metadata": {
    "collapsed": false
   },
   "outputs": [],
   "source": [
    "\n",
    "tup2=(1,3,5,7)\n",
    "tup3=(2,4,6,8)\n",
    "tup4=tup2+tup3\n",
    "print(tup4)\n",
    "\n",
    "del(tup2)\n",
    "\n",
    "print (tup4)\n",
    "print(tup2)\n"
   ]
  },
  {
   "cell_type": "code",
   "execution_count": null,
   "metadata": {
    "collapsed": false
   },
   "outputs": [],
   "source": [
    "tup=([1,2,3],[3,4,5,6,7,8],[5,6,7])\n",
    "print(tup)\n",
    "print(len(tup))\n",
    "# print(tup[0][1])\n",
    "#t = tup[0]\n",
    "#print (t)\n",
    "tup[0][2] = 20\n",
    "print (tup)"
   ]
  },
  {
   "cell_type": "code",
   "execution_count": null,
   "metadata": {
    "collapsed": false
   },
   "outputs": [],
   "source": [
    "#tup[start:end:step]\n",
    "tup[::2]"
   ]
  },
  {
   "cell_type": "code",
   "execution_count": null,
   "metadata": {
    "collapsed": false
   },
   "outputs": [],
   "source": [
    "# #Updating Tuple\n",
    "# tup[0][1]=90\n",
    "print(tup)\n",
    "\n",
    "#Deleting element in Tuple\n",
    "del(tup[1][2])\n",
    "print(tup)\n",
    "del(tup[1])\n",
    "print (tup)\n"
   ]
  },
  {
   "cell_type": "code",
   "execution_count": null,
   "metadata": {
    "collapsed": false
   },
   "outputs": [],
   "source": [
    "\n",
    "list=[1,2,'Python','Android']\n",
    "print(list)\n",
    "\n",
    "list[2]='Data Science'\n",
    "print(list)\n",
    "\n",
    "tup=(1,2,3,'Data Science')\n",
    "print(tup)\n",
    "\n",
    "tup[1]='Python'\n",
    "print(tup)"
   ]
  },
  {
   "cell_type": "code",
   "execution_count": null,
   "metadata": {
    "collapsed": false
   },
   "outputs": [],
   "source": [
    "tuple1=(1,3,5,7,'a','b')\n",
    "lst= list(tuple1)\n",
    "\n",
    "print(lst)\n",
    "\n",
    "lst[1]=\"Python\"\n",
    "print(lst)\n",
    "\n",
    "tuple2=tuple(lst)\n",
    "print(tuple2)"
   ]
  },
  {
   "cell_type": "markdown",
   "metadata": {},
   "source": [
    "### String"
   ]
  },
  {
   "cell_type": "code",
   "execution_count": null,
   "metadata": {
    "collapsed": false
   },
   "outputs": [],
   "source": [
    "str1='Welcome'\n",
    "str2=\"to\"\n",
    "str3=\"Edureka\"\n",
    "\n",
    "print(str1)\n",
    "print(str2)\n",
    "print(str3)\n",
    "\n"
   ]
  },
  {
   "cell_type": "code",
   "execution_count": null,
   "metadata": {
    "collapsed": false
   },
   "outputs": [],
   "source": [
    "string=\"Python\"\n",
    "print(string)\n",
    "print(len(string))\n",
    "print(string[2:4])\n",
    "print('y' in string)"
   ]
  },
  {
   "cell_type": "code",
   "execution_count": null,
   "metadata": {
    "collapsed": false
   },
   "outputs": [],
   "source": [
    "### format printing\n",
    "print(\"Welcome to %s, my name is %s \"%(\"Python\",'Vivek'))\n",
    "print(\"My name is %s and my age is %d\"%(\"Annie\",22))"
   ]
  },
  {
   "cell_type": "code",
   "execution_count": null,
   "metadata": {
    "collapsed": false
   },
   "outputs": [],
   "source": [
    "str='edureka'\n",
    "print (str.split())\n",
    "print(str.upper())\n",
    "print(str.capitalize())\n",
    "print(str.count(\"e\",0,len(str)))"
   ]
  },
  {
   "cell_type": "code",
   "execution_count": null,
   "metadata": {
    "collapsed": false
   },
   "outputs": [],
   "source": [
    "s=str.encode('utf-8','strict')\n",
    "print(s)"
   ]
  },
  {
   "cell_type": "code",
   "execution_count": null,
   "metadata": {
    "collapsed": false
   },
   "outputs": [],
   "source": [
    "print(max(str))\n",
    "print(min(str))\n",
    "print(str.replace('e','--E--',1))\n",
    "print(str.upper())\n",
    "print(str.index('eka'))"
   ]
  },
  {
   "cell_type": "code",
   "execution_count": null,
   "metadata": {
    "collapsed": false
   },
   "outputs": [],
   "source": [
    "\n",
    "\n",
    "str1=\"Happy is Learning\"\n",
    "\n",
    "# print (str1.split(\"is\"))\n",
    "# print(str1[::-1])\n",
    "# print (str1)\n",
    "# print(str1[2:8:2])\n",
    "\n",
    "print(str1.find('L'))\n",
    "\n",
    "str2=\"Welcome to Edureka\"\n",
    "\n",
    "print(str1 + \" \" + str2)\n",
    "\n",
    "print(str1*2)"
   ]
  },
  {
   "cell_type": "markdown",
   "metadata": {},
   "source": [
    "### Sets"
   ]
  },
  {
   "cell_type": "code",
   "execution_count": null,
   "metadata": {
    "collapsed": false
   },
   "outputs": [],
   "source": [
    "X=set('welcome To edureka')\n",
    "print(X)"
   ]
  },
  {
   "cell_type": "code",
   "execution_count": null,
   "metadata": {
    "collapsed": false
   },
   "outputs": [],
   "source": [
    "A={1,2,3,4}\n",
    "B={3,4,5,6}\n",
    "print(A|B)\n",
    "print(A&B)"
   ]
  },
  {
   "cell_type": "code",
   "execution_count": null,
   "metadata": {
    "collapsed": false
   },
   "outputs": [],
   "source": [
    "A={1,2,3,4,5}\n",
    "B={4,5,6,7,8}\n",
    "print(A-B)"
   ]
  },
  {
   "cell_type": "code",
   "execution_count": null,
   "metadata": {
    "collapsed": false
   },
   "outputs": [],
   "source": [
    "s={'a','b','c','d','e','f','o','v'}\n",
    "set1={'a','b','d','o','v'}\n",
    "set2={'a','c','d','o','e'}\n",
    "print(set1|set2)\n",
    "print(set1&set2)\n",
    "print(set1-set2)"
   ]
  },
  {
   "cell_type": "code",
   "execution_count": null,
   "metadata": {
    "collapsed": false
   },
   "outputs": [],
   "source": [
    "s={1,2,3,'a','b'}\n",
    "set1={1,'a','b'}\n",
    "print(1 in s)"
   ]
  },
  {
   "cell_type": "code",
   "execution_count": null,
   "metadata": {
    "collapsed": false
   },
   "outputs": [],
   "source": [
    "print(set1.issubset(s))"
   ]
  },
  {
   "cell_type": "code",
   "execution_count": null,
   "metadata": {
    "collapsed": false
   },
   "outputs": [],
   "source": [
    "print(5 not in s)\n",
    "\n",
    "print(s.issuperset(set1))\n",
    "\n",
    "print(s.union(set1))\n",
    "\n",
    "print(s.intersection(set1))\n",
    "\n",
    "print(s.difference(set1))\n",
    "\n",
    "print(s.symmetric_difference(set1))\n",
    "\n",
    "\n",
    "s={1,2,3,'a','b'}\n",
    "s.add('e')\n",
    "print(s)\n"
   ]
  },
  {
   "cell_type": "code",
   "execution_count": null,
   "metadata": {
    "collapsed": true
   },
   "outputs": [],
   "source": [
    "s.remove(1)\n",
    "print(s)\n",
    "\n",
    "s.discard(3)\n",
    "print(s)\n",
    "\n",
    "s.pop()\n",
    "print(s)\n",
    "\n",
    "s.clear()\n",
    "print(s)"
   ]
  },
  {
   "cell_type": "markdown",
   "metadata": {},
   "source": [
    "### Dictionary"
   ]
  },
  {
   "cell_type": "code",
   "execution_count": 1,
   "metadata": {
    "collapsed": false
   },
   "outputs": [
    {
     "name": "stdout",
     "output_type": "stream",
     "text": [
      "{1: 'Python', 2: 'Android'}\n",
      "Python\n"
     ]
    }
   ],
   "source": [
    "#d = dict{}\n",
    "dict1={1:\"Python\",2:\"Android\"}\n",
    "print(dict1)\n",
    "print(dict1[1])"
   ]
  },
  {
   "cell_type": "code",
   "execution_count": null,
   "metadata": {
    "collapsed": false
   },
   "outputs": [],
   "source": [
    "dict1[2]=\"Javascript\" \n",
    "print(dict1)"
   ]
  },
  {
   "cell_type": "code",
   "execution_count": null,
   "metadata": {
    "collapsed": false
   },
   "outputs": [],
   "source": [
    "del(dict1[2])\n",
    "print(dict1)"
   ]
  },
  {
   "cell_type": "code",
   "execution_count": 3,
   "metadata": {
    "collapsed": false
   },
   "outputs": [
    {
     "name": "stdout",
     "output_type": "stream",
     "text": [
      "2\n",
      "<class 'str'>\n",
      "<class 'dict'>\n"
     ]
    }
   ],
   "source": [
    "print(len(dict1))\n",
    "print(type(str(dict1)))\n",
    "print(type(dict1))"
   ]
  },
  {
   "cell_type": "code",
   "execution_count": 4,
   "metadata": {
    "collapsed": false
   },
   "outputs": [
    {
     "name": "stdout",
     "output_type": "stream",
     "text": [
      "{1: 'Python', 2: 'Android'}\n",
      "{}\n"
     ]
    }
   ],
   "source": [
    "\n",
    "print(dict1.copy())\n",
    "dict1.clear()\n",
    "print(dict1)\n"
   ]
  },
  {
   "cell_type": "code",
   "execution_count": 12,
   "metadata": {
    "collapsed": false
   },
   "outputs": [
    {
     "name": "stdout",
     "output_type": "stream",
     "text": [
      "mgr\n"
     ]
    }
   ],
   "source": [
    "rec = {'name': {'first': 'Bob', 'last': 'Smith'},\n",
    "'jobs': ['dev', 'mgr'],'age': 40.5}\n",
    "print(rec.get('jobs'))\n",
    "\n"
   ]
  },
  {
   "cell_type": "code",
   "execution_count": null,
   "metadata": {
    "collapsed": false
   },
   "outputs": [],
   "source": [
    "d ={1:\"A\",2:\"B\",3:\"A\"} \n",
    "d"
   ]
  },
  {
   "cell_type": "code",
   "execution_count": 32,
   "metadata": {
    "collapsed": false
   },
   "outputs": [
    {
     "name": "stdout",
     "output_type": "stream",
     "text": [
      "10\n"
     ]
    },
    {
     "data": {
      "text/plain": [
       "int"
      ]
     },
     "execution_count": 32,
     "metadata": {},
     "output_type": "execute_result"
    }
   ],
   "source": [
    "#add\n",
    "dict1={5:'Python',2:'Android'}\n",
    "\n",
    "# print(dict1.items())\n",
    "\n",
    "# print(dict1.keys())\n",
    "\n",
    "# print(dict1.values())\n",
    "\n",
    "t = dict1.setdefault('Python',10)\n",
    "print (t)\n",
    "type(t)\n",
    "\n",
    "# print (dict1)\n"
   ]
  },
  {
   "cell_type": "code",
   "execution_count": 20,
   "metadata": {
    "collapsed": false
   },
   "outputs": [
    {
     "name": "stdout",
     "output_type": "stream",
     "text": [
      "dict_keys([3, 1, 2])\n"
     ]
    }
   ],
   "source": [
    "\n",
    "dic={3:'Python',1:'Java',2:'Big Data'}\n",
    "ks=dic.keys()\n",
    "print(ks)"
   ]
  },
  {
   "cell_type": "code",
   "execution_count": 24,
   "metadata": {
    "collapsed": false
   },
   "outputs": [
    {
     "name": "stdout",
     "output_type": "stream",
     "text": [
      "[1, 2, 3]\n"
     ]
    }
   ],
   "source": [
    "sk=sorted(ks)\n",
    "print(sk)"
   ]
  },
  {
   "cell_type": "code",
   "execution_count": 25,
   "metadata": {
    "collapsed": false
   },
   "outputs": [
    {
     "data": {
      "text/plain": [
       "'Big Data'"
      ]
     },
     "execution_count": 25,
     "metadata": {},
     "output_type": "execute_result"
    }
   ],
   "source": [
    "dic[2]"
   ]
  },
  {
   "cell_type": "code",
   "execution_count": 22,
   "metadata": {
    "collapsed": false
   },
   "outputs": [
    {
     "name": "stdout",
     "output_type": "stream",
     "text": [
      "1 => Java\n",
      "2 => Big Data\n",
      "3 => Python\n"
     ]
    }
   ],
   "source": [
    "for key in sk:\n",
    "    print(key,'=>',dic[key])"
   ]
  },
  {
   "cell_type": "code",
   "execution_count": 35,
   "metadata": {
    "collapsed": false
   },
   "outputs": [
    {
     "name": "stdout",
     "output_type": "stream",
     "text": [
      "{1: (1, 2, 3), 2: (3, 4, 5)}\n",
      "(1, 2, 3)\n",
      "{1: ['Python', 'Java'], 2: [1, 3, 5, 7]}\n",
      "['Python', 'Java']\n"
     ]
    }
   ],
   "source": [
    "#tuple in set\n",
    "dict={1:(1,2,3),2:(3,4,5)}\n",
    "print(dict)\n",
    "print(dict[1])\n",
    "\n",
    "\n",
    "#list in set\n",
    "dict={1:[\"Python\",\"Java\"],2:[1,3,5,7]}\n",
    "print(dict)\n",
    "print(dict[1])\n",
    "\n"
   ]
  },
  {
   "cell_type": "code",
   "execution_count": null,
   "metadata": {
    "collapsed": true
   },
   "outputs": [],
   "source": []
  }
 ],
 "metadata": {
  "kernelspec": {
   "display_name": "Python 3",
   "language": "python",
   "name": "python3"
  },
  "language_info": {
   "codemirror_mode": {
    "name": "ipython",
    "version": 3
   },
   "file_extension": ".py",
   "mimetype": "text/x-python",
   "name": "python",
   "nbconvert_exporter": "python",
   "pygments_lexer": "ipython3",
   "version": "3.6.0"
  }
 },
 "nbformat": 4,
 "nbformat_minor": 2
}
